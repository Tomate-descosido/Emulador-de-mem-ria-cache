{
  "nbformat": 4,
  "nbformat_minor": 0,
  "metadata": {
    "colab": {
      "provenance": []
    },
    "kernelspec": {
      "name": "python3",
      "display_name": "Python 3"
    },
    "language_info": {
      "name": "python"
    }
  },
  "cells": [
    {
      "cell_type": "markdown",
      "source": [
        "## 1\\. Arquivos"
      ],
      "metadata": {
        "id": "iWGSHJfO08VM"
      }
    },
    {
      "cell_type": "code",
      "source": [
        "%%writefile MP.txt\n",
        "256 :tamanho em KB (máximo 256)\n",
        "8 :palavras por bloco da MP (2, 4 ou 8)\n",
        "4 :tamanho de cada palavra em bytes (fixo)\n",
        "1 :palavras por linha da MP (fixo)"
      ],
      "metadata": {
        "colab": {
          "base_uri": "https://localhost:8080/"
        },
        "id": "i6xKwKqIim9j",
        "outputId": "4a0a5f8e-81cb-4c84-e1ec-b50db7060bd4"
      },
      "execution_count": 36,
      "outputs": [
        {
          "output_type": "stream",
          "name": "stdout",
          "text": [
            "Overwriting MP.txt\n"
          ]
        }
      ]
    },
    {
      "cell_type": "code",
      "source": [
        "%%writefile cache.txt\n",
        "32 :tamanho do cache em KB (máximo 32)\n",
        "2 :número de linhas por conjunto (minimo 2)"
      ],
      "metadata": {
        "colab": {
          "base_uri": "https://localhost:8080/"
        },
        "id": "yDtUimx3uS_W",
        "outputId": "61743c52-75fa-4ec8-9c31-49d9a6002304"
      },
      "execution_count": 37,
      "outputs": [
        {
          "output_type": "stream",
          "name": "stdout",
          "text": [
            "Overwriting cache.txt\n"
          ]
        }
      ]
    },
    {
      "cell_type": "code",
      "source": [
        "%%writefile data.txt\n",
        "15324 :endereço em decimal a ser buscado"
      ],
      "metadata": {
        "colab": {
          "base_uri": "https://localhost:8080/"
        },
        "id": "aP2isUumcY1m",
        "outputId": "fc84a21f-c0d1-4fac-ca97-3007ab0bc57b"
      },
      "execution_count": 38,
      "outputs": [
        {
          "output_type": "stream",
          "name": "stdout",
          "text": [
            "Overwriting data.txt\n"
          ]
        }
      ]
    },
    {
      "cell_type": "markdown",
      "source": [
        "## 2\\. Código"
      ],
      "metadata": {
        "id": "CwlnF-Tj1mCI"
      }
    },
    {
      "cell_type": "code",
      "source": [
        "# Feito por: Guilherme Gibeli e Eduardo Dobbins\n",
        "\n",
        "\"\"\"import log2 da biblioteca math\"\"\"\n",
        "from math import log2\n",
        "\n",
        "\"\"\"import randint da biblioteca random\"\"\"\n",
        "from random import randint\n",
        "\n",
        "def options():\n",
        "    \"\"\"Exibe as opções do menu.\"\"\"\n",
        "\n",
        "    print('\\nColoque qual Mapeamento deseja')\n",
        "    print('1 - Mapeamento associativo por Conjunto')\n",
        "    print('Qualquer outro valor para encerrar')\n",
        "\n",
        "def MAPR():\n",
        "    \"\"\"Executa o mapeamento associativo por conjunto.\"\"\"\n",
        "\n",
        "    def ler_arquivo(arquivo):\n",
        "        \"\"\"Lê o arquivo e retorna uma lista de inteiros.\"\"\"\n",
        "        with open(file=arquivo, mode='r', encoding='utf8') as f:\n",
        "            return [int(linha.split()[0]) for linha in f]\n",
        "\n",
        "    \"\"\"Leitura das informações da MP e da Cache a partir dos arquivos\"\"\"\n",
        "    infosMP = ler_arquivo('./MP.txt')\n",
        "    infosCache = ler_arquivo('./cache.txt')\n",
        "\n",
        "    \"\"\"Cálculo do número de blocos na MP\"\"\"\n",
        "    TamBloco = int(infosMP[1] * infosMP[2])\n",
        "    NumBlocosMP = int((infosMP[0] * 1024) / TamBloco)\n",
        "\n",
        "    \"\"\"Cálculo dos bits necessários para bloco e offset\"\"\"\n",
        "    BitsBloco = int(log2(NumBlocosMP))\n",
        "    Offset = int(log2(TamBloco))\n",
        "\n",
        "    \"\"\"Cálculo do número total de bits para o endereço\"\"\"\n",
        "    BitsParaEndereço = BitsBloco + Offset\n",
        "\n",
        "    \"\"\"Cálculo do maior endereço válido em decimal na MP\"\"\"\n",
        "    DecimMax = int((infosMP[0] * 1024) - infosMP[2])\n",
        "    print(f'O maior endereço em decimais válido é {DecimMax} bytes\\n')\n",
        "\n",
        "    \"\"\"Cálculo do número de linhas na Cache e de conjuntos na Cache\"\"\"\n",
        "    NumLinhasCache = int((infosCache[0] * 1024) / (infosMP[2]))\n",
        "    NumConjuntos = int(NumLinhasCache / infosCache[1]) # 1 palavra por linha da cache\n",
        "\n",
        "    \"\"\"Impressão das informações da MP e da Cache\"\"\"\n",
        "    print(f'\\nMP:\\nTamanho da MP: {infosMP[0]} KB\\nPalavras por bloco da MP: {infosMP[1]}\\nTamanho de cada palavra na MP: {infosMP[2]} Bytes\\nPalavras por linha da MP: {infosMP[3]}\\nTamanho de cada bloco na MP: {TamBloco} Bytes\\nNúmero total de blocos na MP: {NumBlocosMP}\\n')\n",
        "    print(f'Bits do bloco: {BitsBloco}\\nOffset: {Offset}\\n\\nEndereços de até {BitsParaEndereço} bits são válidos')\n",
        "    print(f'\\nCache:\\nTamanho do cache: {infosCache[0]} KB\\nQuantidade de linhas por conjunto: {infosCache[1]}\\nQuantidade total de linhas da Cache: {NumLinhasCache}\\nQuantidade de conjuntos da Cache: {NumConjuntos}\\n')\n",
        "\n",
        "    \"\"\"Função interna para converter um endereço de bytes para binário\"\"\"\n",
        "    def endereco_para_binario(endereco_bytes):\n",
        "        \"\"\"Converte um endereço de bytes para binário.\"\"\"\n",
        "        endereco_binario = bin(endereco_bytes)[2:]\n",
        "        return endereco_binario.zfill(BitsParaEndereço)\n",
        "\n",
        "    \"\"\"Leitura dos números do arquivo de entrada e conversão para binário\"\"\"\n",
        "    numeros = ler_arquivo('./data.txt')\n",
        "    data = [endereco_para_binario(num) for num in numeros]\n",
        "\n",
        "    \"\"\"Impressão dos endereços em binário lidos do arquivo\"\"\"\n",
        "    print('Endereço em binário lido do arquivo:')\n",
        "    for binario in data: print(binario)\n",
        "\n",
        "    \"\"\"Cálculo dos parâmetros w, d, s e tag\"\"\"\n",
        "    w = int(Offset) # bits offset\n",
        "    print(f'\\nw: {w}\\n')\n",
        "    d = int(log2(NumConjuntos)) # bits do índice\n",
        "    print(f'd: {d}\\n')\n",
        "    s = int(BitsBloco) # bits para o bloco\n",
        "    print(f's: {s}\\n')\n",
        "    tag = int(s - d) # bits de tag\n",
        "    print(f'tag: {tag}\\n')\n",
        "\n",
        "    \"\"\"Inicialização da Cache como uma lista de listas com 'NULL'\"\"\"\n",
        "    t = NumLinhasCache // NumConjuntos\n",
        "    cache = [['NULL' for _ in range(t)] for _ in range(NumConjuntos)]\n",
        "\n",
        "    \"\"\"Variáveis para contagem de acertos, erros e operações\"\"\"\n",
        "    acerto = 0\n",
        "    errado = 0\n",
        "    o = 1\n",
        "\n",
        "    \"\"\"Loop para simulação de acessos à Cache\"\"\"\n",
        "    for i in range(len(data)):\n",
        "        x = numeros[i]  # Obter o número inteiro correspondente ao endereço\n",
        "        bin_x = data[i]  # Obter o binário correspondente ao endereço\n",
        "\n",
        "        \"\"\"Extração da TAG\"\"\"\n",
        "        TAG = bin_x[:tag]\n",
        "\n",
        "        \"\"\"Extração do D\"\"\"\n",
        "        D = bin_x[tag:-w]\n",
        "\n",
        "        \"\"\"Conversão de D para inteiro na base 2\"\"\"\n",
        "        a = int(D, 2) if D else 0\n",
        "\n",
        "        \"\"\"Extração do W\"\"\"\n",
        "        W = bin_x[-w:]\n",
        "\n",
        "        \"\"\"Extração do S\"\"\"\n",
        "        S = bin_x[:-w]\n",
        "\n",
        "        \"\"\"Escolha de um índice aleatório para o conjunto\"\"\"\n",
        "        aux = randint(0, t - 1)\n",
        "\n",
        "        \"\"\"Verificação de HIT ou MISS na Cache\"\"\"\n",
        "        if a < len(cache) and TAG in cache[a]:\n",
        "          acerto += 1\n",
        "        else:\n",
        "          cache[a][aux] = TAG\n",
        "          errado += 1\n",
        "\n",
        "        \"\"\"Impressão dos resultados de cada operação\"\"\"\n",
        "        print(f'\\n\\n-------------------------------------------\\nResumo Mapeamento: Associativo por Conjunto\\n-------------------------------------------\\nEndereço procurado: {x}\\nTag: {TAG}\\nd: {D}\\nw: {W}\\ns: {S}\\n-------------------------------------------\\nTotal de memórias acessadas: {o}\\nTotal HIT: {acerto}\\nTotal MISS: {errado}')\n",
        "        taxa_cache_hit = (acerto / o) * 100\n",
        "        print('Taxa de Cache HIT: {number:.{digits}f}%'.format(number=taxa_cache_hit, digits=2))\n",
        "        taxa_cache_miss = (errado / o) * 100\n",
        "        print('Taxa de Cache MISS: {number:.{digits}f}%'.format(number=taxa_cache_miss, digits=2))\n",
        "        o += 1\n",
        "\n",
        "def main():\n",
        "    \"\"\"Função principal para controle do menu e execução do programa.\"\"\"\n",
        "    continuar = True\n",
        "    while continuar:\n",
        "        options()\n",
        "        option = int(input('\\nInsira o Valor: '))\n",
        "        if option == 1:\n",
        "            MAPR()\n",
        "        else:\n",
        "            print(\"\\nMuito Obrigado por Utilizar\")\n",
        "            continuar = False\n",
        "\n",
        "if __name__ == \"__main__\":\n",
        "    main()"
      ],
      "metadata": {
        "colab": {
          "base_uri": "https://localhost:8080/"
        },
        "id": "yg-kr4Hgkz2R",
        "outputId": "ea84d0fe-1114-4797-8a9e-3f0c7b3309fe"
      },
      "execution_count": 43,
      "outputs": [
        {
          "output_type": "stream",
          "name": "stdout",
          "text": [
            "\n",
            "Coloque qual Mapeamento deseja\n",
            "1 - Mapeamento associativo por Conjunto\n",
            "Qualquer outro valor para encerrar\n",
            "\n",
            "Insira o Valor: 1\n",
            "O maior endereço em decimais válido é 262140 bytes\n",
            "\n",
            "\n",
            "MP:\n",
            "Tamanho da MP: 256 KB\n",
            "Palavras por bloco da MP: 8\n",
            "Tamanho de cada palavra na MP: 4 Bytes\n",
            "Palavras por linha da MP: 1\n",
            "Tamanho de cada bloco na MP: 32 Bytes\n",
            "Número total de blocos na MP: 8192\n",
            "\n",
            "Bits do bloco: 13\n",
            "Offset: 5\n",
            "\n",
            "Endereços de até 18 bits são válidos\n",
            "\n",
            "Cache:\n",
            "Tamanho do cache: 32 KB\n",
            "Quantidade de linhas por conjunto: 2\n",
            "Quantidade total de linhas da Cache: 8192\n",
            "Quantidade de conjuntos da Cache: 4096\n",
            "\n",
            "Endereço em binário lido do arquivo:\n",
            "000011101111011100\n",
            "\n",
            "w: 5\n",
            "\n",
            "d: 12\n",
            "\n",
            "s: 13\n",
            "\n",
            "tag: 1\n",
            "\n",
            "\n",
            "\n",
            "-------------------------------------------\n",
            "Resumo Mapeamento: Associativo por Conjunto\n",
            "-------------------------------------------\n",
            "Endereço procurado: 15324\n",
            "Tag: 0\n",
            "d: 000111011110\n",
            "w: 11100\n",
            "s: 0000111011110\n",
            "-------------------------------------------\n",
            "Total de memórias acessadas: 1\n",
            "Total HIT: 0\n",
            "Total MISS: 1\n",
            "Taxa de Cache HIT: 0.00%\n",
            "Taxa de Cache MISS: 100.00%\n",
            "\n",
            "Coloque qual Mapeamento deseja\n",
            "1 - Mapeamento associativo por Conjunto\n",
            "Qualquer outro valor para encerrar\n",
            "\n",
            "Insira o Valor: 2\n",
            "\n",
            "Muito Obrigado por Utilizar\n"
          ]
        }
      ]
    }
  ]
}